{
 "cells": [
  {
   "cell_type": "code",
   "execution_count": 13,
   "metadata": {},
   "outputs": [],
   "source": [
    "from __future__ import division\n",
    "\n",
    "import numpy as np\n",
    "from keras.models import Model\n",
    "from keras.layers import Input, merge, Convolution2D, MaxPooling2D, UpSampling2D, Cropping2D\n",
    "\n",
    "from keras import backend as K\n",
    "\n",
    "import keras\n",
    "import h5py\n",
    "\n",
    "from keras.layers.normalization import BatchNormalization\n",
    "import importlib\n",
    "\n",
    "from keras.optimizers import Nadam\n",
    "from keras.callbacks import History\n",
    "import pandas as pd\n",
    "from keras.backend import binary_crossentropy\n",
    "\n",
    "import datetime\n",
    "import os\n",
    "\n",
    "import random\n",
    "import threading\n",
    "from tqdm import tqdm\n",
    "\n",
    "from keras.models import model_from_json"
   ]
  },
  {
   "cell_type": "code",
   "execution_count": 8,
   "metadata": {
    "collapsed": true
   },
   "outputs": [],
   "source": [
    "def set_keras_backend(backend):\n",
    "    if K.backend() != backend:\n",
    "        os.environ['KERAS_BACKEND'] = backend\n",
    "        importlib.reload(K)\n",
    "        assert K.backend() == backend\n",
    "        \n",
    "def jaccard_coef(y_true, y_pred):\n",
    "    intersection = K.sum(y_true * y_pred, axis=[0, -1, -2])\n",
    "    sum_ = K.sum(y_true + y_pred, axis=[0, -1, -2])\n",
    "\n",
    "    jac = (intersection + smooth) / (sum_ - intersection + smooth)\n",
    "\n",
    "    return K.mean(jac)\n",
    "\n",
    "def jaccard_coef_int(y_true, y_pred):\n",
    "    y_pred_pos = K.round(K.clip(y_pred, 0, 1))\n",
    "\n",
    "    intersection = K.sum(y_true * y_pred_pos, axis=[0, -1, -2])\n",
    "    sum_ = K.sum(y_true + y_pred_pos, axis=[0, -1, -2])\n",
    "\n",
    "    jac = (intersection + smooth) / (sum_ - intersection + smooth)\n",
    "\n",
    "    return K.mean(jac)\n",
    "\n",
    "\n",
    "def jaccard_coef_loss(y_true, y_pred):\n",
    "    return -K.log(jaccard_coef(y_true, y_pred)) + K.binary_crossentropy(y_pred, y_true)\n",
    "\n",
    "def jaccard_similarity(list1, list2):\n",
    "    intersection = len(list(set(list1).intersection(list2)))\n",
    "    print(list(set(list1).intersection(list2)))\n",
    "    union = (len(list1) + len(list2)) - intersection\n",
    "    return float(intersection / union)"
   ]
  },
  {
   "cell_type": "code",
   "execution_count": 16,
   "metadata": {},
   "outputs": [],
   "source": [
    "set_keras_backend(\"theano\")\n",
    "K.set_image_dim_ordering('th')\n",
    "#jaccard_similarity([1.5,1.0], [1.0,0.9])\n",
    "\n",
    "test_ids = ['6110_3_1','6120_2_2','6140_3_1','6110_1_2','6110_4_0','6120_2_0','6120_2_0']\n",
    "data = pd.read_csv('../data/train_wkt_v4.csv')\n",
    "result = pd.read_csv('../data/joined.csv')"
   ]
  },
  {
   "cell_type": "code",
   "execution_count": 15,
   "metadata": {},
   "outputs": [
    {
     "name": "stderr",
     "output_type": "stream",
     "text": [
      "100%|██████████| 7/7 [00:00<00:00, 61.28it/s]"
     ]
    },
    {
     "name": "stdout",
     "output_type": "stream",
     "text": [
      "      ImageId  ClassType                                    MultipolygonWKT\n",
      "150  6110_3_1          1  MULTIPOLYGON (((0.0040671780447186 -0.00889538...\n",
      "151  6110_3_1          2  MULTIPOLYGON (((0.000434018999609 -0.009035395...\n",
      "152  6110_3_1          3  MULTIPOLYGON (((0.0050952230484001 -0.00222609...\n",
      "153  6110_3_1          4  MULTIPOLYGON (((0.008656378941500001 -0.008587...\n",
      "154  6110_3_1          5  MULTIPOLYGON (((0.0091183991668912 -0.00903939...\n",
      "155  6110_3_1          6  MULTIPOLYGON (((0.0091664012682297 -0.00891339...\n",
      "156  6110_3_1          7                                 MULTIPOLYGON EMPTY\n",
      "157  6110_3_1          8  MULTIPOLYGON (((0.0042681868440771 -0.00358915...\n",
      "158  6110_3_1          9  MULTIPOLYGON (((0.0018630815582277 -0.00510022...\n",
      "159  6110_3_1         10  MULTIPOLYGON (((0.0010150444345697 -0.00718431...\n",
      "     ImageId  ClassType                                    MultipolygonWKT\n",
      "10  6120_2_2          1  MULTIPOLYGON (((0.000439 -0.009039999999999999...\n",
      "11  6120_2_2          2  MULTIPOLYGON (((0.009154000000000001 -0.008422...\n",
      "12  6120_2_2          3  MULTIPOLYGON (((0.001095 -0.007676, 0.001103 -...\n",
      "13  6120_2_2          4  MULTIPOLYGON (((0.007424 -0.008459, 0.007436 -...\n",
      "14  6120_2_2          5  MULTIPOLYGON (((0.000494 -0.008805, 0.00048 -0...\n",
      "15  6120_2_2          6  MULTIPOLYGON (((0.000292 -0.003056, 0.000201 -...\n",
      "16  6120_2_2          7                                 MULTIPOLYGON EMPTY\n",
      "17  6120_2_2          8  MULTIPOLYGON (((0.008354 -0.005124, 0.008357 -...\n",
      "18  6120_2_2          9  MULTIPOLYGON (((0.000744 -0.00886, 0.000783 -0...\n",
      "19  6120_2_2         10  MULTIPOLYGON (((0.001148 -0.008973999999999999...\n",
      "     ImageId  ClassType                                    MultipolygonWKT\n",
      "90  6140_3_1          1  MULTIPOLYGON (((0.0041385419488102 -0.00889310...\n",
      "91  6140_3_1          2  MULTIPOLYGON (((0.0044373353015589 -0.00897899...\n",
      "92  6140_3_1          3  MULTIPOLYGON (((0.005139228973812 -0.002193097...\n",
      "93  6140_3_1          4  MULTIPOLYGON (((0.0015999227431448 -0.00799122...\n",
      "94  6140_3_1          5  MULTIPOLYGON (((0.0005050225008362 -0.00900840...\n",
      "95  6140_3_1          6  MULTIPOLYGON (((0.0091434073764405 -0.00887639...\n",
      "96  6140_3_1          7                                 MULTIPOLYGON EMPTY\n",
      "97  6140_3_1          8  MULTIPOLYGON (((0.0042841908783449 -0.00358715...\n",
      "98  6140_3_1          9  MULTIPOLYGON (((0.0050562252756521 -0.00819336...\n",
      "99  6140_3_1         10  MULTIPOLYGON (((0.0002870127876025 -0.00897139...\n",
      "      ImageId  ClassType                                    MultipolygonWKT\n",
      "100  6110_1_2          1  MULTIPOLYGON (((5.99993550571e-05 -0.009031902...\n",
      "101  6110_1_2          2  MULTIPOLYGON (((0.0007909914974954 -0.00903990...\n",
      "102  6110_1_2          3  MULTIPOLYGON (((0.0006753629404066 -0.00614986...\n",
      "103  6110_1_2          4  MULTIPOLYGON (((0.0012868090678658 -0.00786129...\n",
      "104  6110_1_2          5  MULTIPOLYGON (((0.008476908880234699 -0.008975...\n",
      "105  6110_1_2          6  MULTIPOLYGON (((0.0061759336138165 -0.00868490...\n",
      "106  6110_1_2          7                                 MULTIPOLYGON EMPTY\n",
      "107  6110_1_2          8  MULTIPOLYGON (((0.008626907267876001 -0.007878...\n",
      "108  6110_1_2          9                                 MULTIPOLYGON EMPTY\n",
      "109  6110_1_2         10  MULTIPOLYGON (((0.000733992110191 -0.008503908...\n",
      "     ImageId  ClassType                                    MultipolygonWKT\n",
      "80  6110_4_0          1  MULTIPOLYGON (((0.007546 -0.005158, 0.007584 -...\n",
      "81  6110_4_0          2  MULTIPOLYGON (((0.002344 -0.008668, 0.002349 -...\n",
      "82  6110_4_0          3  MULTIPOLYGON (((0 -0.00549, 0 -0.005339, 0.000...\n",
      "83  6110_4_0          4  MULTIPOLYGON (((0 -0.008017, 5.5e-05 -0.008007...\n",
      "84  6110_4_0          5  MULTIPOLYGON (((0.00666 -0.009039999999999999,...\n",
      "85  6110_4_0          6  MULTIPOLYGON (((0.009169 -0.007217, 0.009169 -...\n",
      "86  6110_4_0          7                                 MULTIPOLYGON EMPTY\n",
      "87  6110_4_0          8  MULTIPOLYGON (((0.000287 -0.006791, 0.000251 -...\n",
      "88  6110_4_0          9  MULTIPOLYGON (((0.000367 -0.004805, 0.000318 -...\n",
      "89  6110_4_0         10  MULTIPOLYGON (((0.001628 -0.003359, 0.001653 -...\n",
      "     ImageId  ClassType                                    MultipolygonWKT\n",
      "20  6120_2_0          1  MULTIPOLYGON (((0.005324 -0.002879, 0.005327 -...\n",
      "21  6120_2_0          2  MULTIPOLYGON (((0.00472 -0.008395, 0.004746 -0...\n",
      "22  6120_2_0          3  MULTIPOLYGON (((0.007209 -0.003776, 0.007263 -...\n",
      "23  6120_2_0          4  MULTIPOLYGON (((0.009162 -0.005681, 0.009143 -...\n",
      "24  6120_2_0          5  MULTIPOLYGON (((0.008921999999999999 -0.009031...\n",
      "25  6120_2_0          6  MULTIPOLYGON (((0.005591 -0.009039, 0.005607 -...\n",
      "26  6120_2_0          7                                 MULTIPOLYGON EMPTY\n",
      "27  6120_2_0          8                                 MULTIPOLYGON EMPTY\n",
      "28  6120_2_0          9  MULTIPOLYGON (((0.00492 -0.00299, 0.00496 -0.0...\n",
      "29  6120_2_0         10  MULTIPOLYGON (((0.008746 -0.004495, 0.008753 -...\n",
      "     ImageId  ClassType                                    MultipolygonWKT\n",
      "20  6120_2_0          1  MULTIPOLYGON (((0.005324 -0.002879, 0.005327 -...\n",
      "21  6120_2_0          2  MULTIPOLYGON (((0.00472 -0.008395, 0.004746 -0...\n",
      "22  6120_2_0          3  MULTIPOLYGON (((0.007209 -0.003776, 0.007263 -...\n",
      "23  6120_2_0          4  MULTIPOLYGON (((0.009162 -0.005681, 0.009143 -...\n",
      "24  6120_2_0          5  MULTIPOLYGON (((0.008921999999999999 -0.009031...\n",
      "25  6120_2_0          6  MULTIPOLYGON (((0.005591 -0.009039, 0.005607 -...\n",
      "26  6120_2_0          7                                 MULTIPOLYGON EMPTY\n",
      "27  6120_2_0          8                                 MULTIPOLYGON EMPTY\n",
      "28  6120_2_0          9  MULTIPOLYGON (((0.00492 -0.00299, 0.00496 -0.0...\n",
      "29  6120_2_0         10  MULTIPOLYGON (((0.008746 -0.004495, 0.008753 -...\n"
     ]
    },
    {
     "name": "stderr",
     "output_type": "stream",
     "text": [
      "\n"
     ]
    }
   ],
   "source": [
    "for image_id in tqdm(test_ids):\n",
    "    y_true = data[data['ImageId']==image_id]\n",
    "    print(y_true)"
   ]
  },
  {
   "cell_type": "code",
   "execution_count": null,
   "metadata": {
    "collapsed": true
   },
   "outputs": [],
   "source": []
  }
 ],
 "metadata": {
  "kernelspec": {
   "display_name": "Python 3",
   "language": "python",
   "name": "python3"
  },
  "language_info": {
   "codemirror_mode": {
    "name": "ipython",
    "version": 3
   },
   "file_extension": ".py",
   "mimetype": "text/x-python",
   "name": "python",
   "nbconvert_exporter": "python",
   "pygments_lexer": "ipython3",
   "version": "3.6.1"
  }
 },
 "nbformat": 4,
 "nbformat_minor": 2
}
