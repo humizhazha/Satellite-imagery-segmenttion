{
 "cells": [
  {
   "cell_type": "code",
   "execution_count": 139,
   "metadata": {
    "collapsed": true
   },
   "outputs": [],
   "source": [
    "import pandas as pd\n",
    "import shapely\n",
    "import shapely.wkt"
   ]
  },
  {
   "cell_type": "markdown",
   "metadata": {},
   "source": [
    "# Merge Results"
   ]
  },
  {
   "cell_type": "code",
   "execution_count": 140,
   "metadata": {
    "collapsed": true
   },
   "outputs": [],
   "source": [
    "submissions = {0: 'temp_building_3.csv',\n",
    "               1: 'temp_structures_4.csv',\n",
    "               2: 'temp_road_4.csv',\n",
    "               3: 'temp_track_100_0.3.csv',\n",
    "               4: 'temp_trees_2.csv',\n",
    "               5: 'temp_crops_4.csv',\n",
    "               6: 'temp_water_fast.csv',\n",
    "               7: 'temp_water_slow.csv'\n",
    "               }\n",
    "test_ids = ['6110_3_1','6120_2_2','6140_3_1','6110_1_2','6110_4_0','6120_2_0','6120_2_0']\n",
    "for class_index in submissions:\n",
    "    submissions[class_index] = pd.read_csv(submissions[class_index])"
   ]
  },
  {
   "cell_type": "code",
   "execution_count": 141,
   "metadata": {},
   "outputs": [],
   "source": [
    "sample_submission = {}\n",
    "sample_submission['ImageId'] = []\n",
    "sample_submission['ClassType'] = []\n",
    "#sample_submission['MultipolygonWKT'] = 'MULTIPOLYGON EMPTY'\n",
    "sample_submission['MultipolygonWKT'] = []\n",
    "\n",
    "for tid in test_ids:\n",
    "    for class_type in submissions.keys():\n",
    "        class_sub = submissions[class_type]\n",
    "        selected_record = class_sub[class_sub['ImageId']==tid].iloc[0]\n",
    "        sample_submission['ImageId'].append(selected_record['ImageId'])\n",
    "        sample_submission['ClassType'].append(int(selected_record['ClassType']))\n",
    "        sample_submission['MultipolygonWKT'].append(selected_record['MultipolygonWKT'])\n",
    "    sample_submission['ImageId'].append(tid)\n",
    "    sample_submission['ClassType'].append(9)\n",
    "    sample_submission['MultipolygonWKT'].append('MULTIPOLYGON EMPTY')\n",
    "    sample_submission['ImageId'].append(tid)\n",
    "    sample_submission['ClassType'].append(10)\n",
    "    sample_submission['MultipolygonWKT'].append('MULTIPOLYGON EMPTY')\n",
    "        "
   ]
  },
  {
   "cell_type": "code",
   "execution_count": null,
   "metadata": {},
   "outputs": [],
   "source": [
    "result = pd.DataFrame.from_dict(sample_submission)"
   ]
  },
  {
   "cell_type": "markdown",
   "metadata": {},
   "source": [
    "# Evaluate Result"
   ]
  },
  {
   "cell_type": "code",
   "execution_count": null,
   "metadata": {
    "collapsed": true
   },
   "outputs": [],
   "source": [
    "def jaccard_similarity(list1, list2):\n",
    "    intersection = len(list(set(list1).intersection(list2)))\n",
    "    print(list(set(list1).intersection(list2)))\n",
    "    union = (len(list1) + len(list2)) - intersection\n",
    "    return float(intersection / union)"
   ]
  },
  {
   "cell_type": "markdown",
   "metadata": {},
   "source": [
    "Read the real situation dataset"
   ]
  },
  {
   "cell_type": "code",
   "execution_count": 143,
   "metadata": {},
   "outputs": [],
   "source": [
    "real = pd.read_csv('../data/train_wkt_v4.csv')\n",
    "real = real[real['ImageId'].isin(test_ids)]"
   ]
  },
  {
   "cell_type": "code",
   "execution_count": 145,
   "metadata": {},
   "outputs": [],
   "source": [
    "from shapely.wkt import loads\n",
    "polygonsList = {}\n",
    "for cType in real.ClassType.unique():\n",
    "    polygonsList[cType] = []\n",
    "for ids in test_ids:\n",
    "    image = real[real.ImageId == ids]\n",
    "    for cType in image.ClassType.unique():\n",
    "        polygonsList[cType].append(loads(image[image.ClassType == cType].MultipolygonWKT.values[0]))"
   ]
  },
  {
   "cell_type": "code",
   "execution_count": 148,
   "metadata": {
    "collapsed": true
   },
   "outputs": [],
   "source": [
    "polygonsList_pre = {}\n",
    "for cType in result.ClassType.unique():\n",
    "    polygonsList_pre[cType] = []\n",
    "for ids in test_ids:\n",
    "    image = result[result.ImageId == ids]\n",
    "    for cType in image.ClassType.unique():\n",
    "        polygonsList_pre[cType].append(loads(image[image.ClassType == cType].MultipolygonWKT.values[0]))"
   ]
  },
  {
   "cell_type": "markdown",
   "metadata": {},
   "source": [
    "Get jaccard index"
   ]
  },
  {
   "cell_type": "code",
   "execution_count": null,
   "metadata": {},
   "outputs": [],
   "source": [
    "result = []\n",
    "for i in range(1,9):\n",
    "    ja_all = 0\n",
    "    for j in range(0,7):\n",
    "        union = (polygonsList_pre[i][j].union(polygonsList[i][j])).area\n",
    "        a = union - polygonsList_pre[i][j].area\n",
    "        interact = polygonsList[i][j].area-a\n",
    "        jaccard = 0\n",
    "        if union!=0:\n",
    "            jaccard = interact/union\n",
    "        ja_all += jaccard\n",
    "        \n",
    "    result.append(ja_all)\n"
   ]
  },
  {
   "cell_type": "markdown",
   "metadata": {},
   "source": [
    "Mean jaccard index of class 1-8"
   ]
  },
  {
   "cell_type": "code",
   "execution_count": 170,
   "metadata": {},
   "outputs": [
    {
     "data": {
      "text/plain": [
       "1.6679811604355317"
      ]
     },
     "execution_count": 170,
     "metadata": {},
     "output_type": "execute_result"
    }
   ],
   "source": [
    "sum(result) / float(len(result))"
   ]
  }
 ],
 "metadata": {
  "kernelspec": {
   "display_name": "Python 3",
   "language": "python",
   "name": "python3"
  },
  "language_info": {
   "codemirror_mode": {
    "name": "ipython",
    "version": 3
   },
   "file_extension": ".py",
   "mimetype": "text/x-python",
   "name": "python",
   "nbconvert_exporter": "python",
   "pygments_lexer": "ipython3",
   "version": "3.6.1"
  }
 },
 "nbformat": 4,
 "nbformat_minor": 2
}
